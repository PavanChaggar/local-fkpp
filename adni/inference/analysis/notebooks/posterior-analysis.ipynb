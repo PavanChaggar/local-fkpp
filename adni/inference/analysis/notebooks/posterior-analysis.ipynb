{
 "cells": [
  {
   "cell_type": "code",
   "execution_count": 16,
   "metadata": {},
   "outputs": [],
   "source": [
    "using Connectomes\n",
    "using ADNIDatasets\n",
    "using CSV, DataFrames\n",
    "using DrWatson: projectdir\n",
    "using Distributions\n",
    "using Serialization\n",
    "using DelimitedFiles\n",
    "using MCMCChains\n",
    "using CairoMakie\n",
    "using Turing"
   ]
  },
  {
   "cell_type": "code",
   "execution_count": 2,
   "metadata": {},
   "outputs": [],
   "source": [
    "include(projectdir(\"functions.jl\"))\n",
    "include(projectdir(\"adni/inference/inference-preamble.jl\"));"
   ]
  },
  {
   "cell_type": "code",
   "execution_count": 3,
   "metadata": {},
   "outputs": [],
   "source": [
    "\n",
    "pst = deserialize(projectdir(\"adni/new-chains/local-fkpp/length-free/pst-taupos-4x2000.jls\"));\n",
    "pst2 = deserialize(projectdir(\"adni/new-chains/local-fkpp/length-free/pst-tauneg-4x2000.jls\"));\n",
    "pst3 = deserialize(projectdir(\"adni/new-chains/local-fkpp/length-free/pst-abneg-4x2000.jls\"));"
   ]
  },
  {
   "cell_type": "code",
   "execution_count": 4,
   "metadata": {},
   "outputs": [
    {
     "data": {
      "text/plain": [
       "get_diff (generic function with 1 method)"
      ]
     },
     "metadata": {},
     "output_type": "display_data"
    }
   ],
   "source": [
    "function get_diff(d)\n",
    "    d[:,end] .- d[:,1]\n",
    "end"
   ]
  },
  {
   "cell_type": "code",
   "execution_count": 5,
   "metadata": {},
   "outputs": [],
   "source": [
    "taupos_data = data[tau_pos]\n",
    "taupos_suvr = calc_suvr.(taupos_data)\n",
    "taupos_subdata = [normalise(sd, u0, cc) for sd in taupos_suvr]\n",
    "\n",
    "taupos_vols = get_vol.(taupos_data)\n",
    "taupos_total_vol_corrected = [v ./ sum(v, dims=1) for v in taupos_vols]\n",
    "taupos_atr = [v ./ v[:,1] for v in taupos_total_vol_corrected];"
   ]
  },
  {
   "cell_type": "code",
   "execution_count": 24,
   "metadata": {},
   "outputs": [],
   "source": [
    "qc_data = ADNIDataset(posdf, dktnames; min_scans=3, qc=false)\n",
    "\n",
    "tauneg_data = qc_data[tau_neg]\n",
    "tauneg_subsuvr = calc_suvr.(tauneg_data)\n",
    "_tauneg_subdata = [normalise(sd, u0, cc) for sd in tauneg_subsuvr];\n",
    "\n",
    "tauneg_blsd = [sd .- u0 for sd in _tauneg_subdata]\n",
    "tauneg_nonzerosubs = findall(x -> sum(x) < 2, [sum(sd, dims=1) .== 0 for sd in tauneg_blsd])\n",
    "tauneg_subdata = _tauneg_subdata[tauneg_nonzerosubs];\n",
    "\n",
    "tauneg_vols = get_vol.(tauneg_data)[tauneg_nonzerosubs]\n",
    "tauneg_total_vol_corrected = [v ./ sum(v, dims=1) for v in tauneg_vols]\n",
    "tauneg_atr = [v ./ v[:,1] for v in tauneg_total_vol_corrected];"
   ]
  },
  {
   "cell_type": "code",
   "execution_count": 22,
   "metadata": {},
   "outputs": [],
   "source": [
    "abneg_data = ADNIDataset(negdf, dktnames; min_scans=3, qc=false)\n",
    "\n",
    "abneg_subsuvr = calc_suvr.(abneg_data)\n",
    "_abneg_subdata = [normalise(sd, u0, cc) for sd in abneg_subsuvr]\n",
    "\n",
    "abneg_blsd = [sd .- u0 for sd in _abneg_subdata]\n",
    "abneg_nonzerosubs = findall(x -> sum(x) < 2, [sum(sd, dims=1) .== 0 for sd in abneg_blsd])\n",
    "\n",
    "abneg_subdata = _abneg_subdata[abneg_nonzerosubs\n",
    "]\n",
    "abneg_vols = get_vol.(abneg_data)[abneg_nonzerosubs]\n",
    "abneg_total_vol_corrected = [v ./ sum(v, dims=1) for v in abneg_vols]\n",
    "abneg_atr = [v ./ v[:,1] for v in abneg_total_vol_corrected];"
   ]
  },
  {
   "cell_type": "code",
   "execution_count": 20,
   "metadata": {},
   "outputs": [],
   "source": [
    "taupos_meanpst = mean(pst)\n",
    "taupos_production = [taupos_meanpst[\"α[$i]\", :mean] for i in 1:57]\n",
    "taupos_transport  = [taupos_meanpst[\"ρ[$i]\", :mean] for i in 1:57];\n",
    "\n",
    "tauneg_meanpst = mean(pst2)\n",
    "tauneg_production = [tauneg_meanpst[\"α[$i]\", :mean] for i in 1:37]\n",
    "tauneg_transport  = [tauneg_meanpst[\"ρ[$i]\", :mean] for i in 1:37];\n",
    "\n",
    "abneg_meanpst = mean(pst3)\n",
    "abneg_production = [abneg_meanpst[\"α[$i]\", :mean] for i in 1:58]\n",
    "abneg_transport  = [abneg_meanpst[\"ρ[$i]\", :mean] for i in 1:58];"
   ]
  },
  {
   "cell_type": "code",
   "execution_count": 21,
   "metadata": {},
   "outputs": [
    {
     "ename": "DimensionMismatch",
     "evalue": "DimensionMismatch: arrays could not be broadcast to a common size; got a dimension with lengths 37 and 39",
     "output_type": "error",
     "traceback": [
      "DimensionMismatch: arrays could not be broadcast to a common size; got a dimension with lengths 37 and 39\n",
      "\n",
      "Stacktrace:\n",
      "  [1] _bcs1\n",
      "    @ Base.Broadcast ./broadcast.jl:555 [inlined]\n",
      "  [2] _bcs\n",
      "    @ Base.Broadcast ./broadcast.jl:549 [inlined]\n",
      "  [3] broadcast_shape\n",
      "    @ Base.Broadcast ./broadcast.jl:543 [inlined]\n",
      "  [4] combine_axes\n",
      "    @ Base.Broadcast ./broadcast.jl:524 [inlined]\n",
      "  [5] instantiate\n",
      "    @ Base.Broadcast ./broadcast.jl:306 [inlined]\n",
      "  [6] materialize\n",
      "    @ Base.Broadcast ./broadcast.jl:903 [inlined]\n",
      "  [7] convert_arguments(P::PointBased, x::Vector{Float64}, y::Vector{Float64})\n",
      "    @ Makie ~/.julia/packages/Makie/z2T2o/src/conversions.jl:145\n",
      "  [8] convert_arguments(::Type{Scatter}, ::Vector{Float64}, ::Vararg{Vector{Float64}}; kw::@Kwargs{})\n",
      "    @ Makie ~/.julia/packages/Makie/z2T2o/src/conversions.jl:10\n",
      "  [9] convert_arguments\n",
      "    @ Makie ~/.julia/packages/Makie/z2T2o/src/conversions.jl:7 [inlined]\n",
      " [10] (Scatter)(args::Tuple{Vector{Float64}, Vector{Float64}}, plot_attributes::Dict{Symbol, Any})\n",
      "    @ Makie ~/.julia/packages/Makie/z2T2o/src/interfaces.jl:139\n",
      " [11] _create_plot!(::Function, ::Dict{Symbol, Any}, ::Vector{Float64}, ::Vector{Float64})\n",
      "    @ Makie ~/.julia/packages/Makie/z2T2o/src/figureplotting.jl:282\n",
      " [12] scatter!(::Vector{Float64}, ::Vararg{Vector{Float64}}; kw::@Kwargs{color::Tuple{ColorTypes.RGBA{Float32}, Float64}, markersize::Int64})\n",
      "    @ MakieCore ~/.julia/packages/MakieCore/UAwps/src/recipes.jl:176\n",
      " [13] top-level scope\n",
      "    @ ~/Projects/local-fkpp/adni/inference/analysis/notebooks/posterior-analysis.ipynb:26"
     ]
    }
   ],
   "source": [
    "cols = Makie.wong_colors() \n",
    "\n",
    "taupos_total_initial_suvr = [sum(s, dims=1)[end] for s in taupos_subdata]\n",
    "tauneg_total_initial_suvr = [sum(s, dims=1)[end] for s in tauneg_subdata]\n",
    "abneg_total_initial_suvr = [sum(s, dims=1)[end] for s in abneg_subdata]\n",
    "\n",
    "\n",
    "taupos_suvr_diff = mean.([get_diff(sd[mtl,:]) for sd in taupos_subdata])\n",
    "taupos_vol_diff = mean.([get_diff(sd[mtl,:]) for sd in taupos_atr])\n",
    "\n",
    "tauneg_suvr_diff = mean.([get_diff(sd[mtl,:]) for sd in tauneg_subdata])\n",
    "tauneg_vol_diff = mean.([get_diff(sd[mtl,:]) for sd in tauneg_atr])\n",
    "\n",
    "abneg_suvr_diff = mean.([get_diff(sd[mtl,:]) for sd in abneg_subdata])\n",
    "abneg_vol_diff = mean.([get_diff(sd[mtl,:]) for sd in abneg_atr])\n",
    "\n",
    "begin\n",
    "    f = Figure(size=(1000,500))\n",
    "    ax = Axis(f[1,1])\n",
    "    scatter!(taupos_suvr_diff, taupos_vol_diff, color=(cols[1], 0.75), markersize=10)\n",
    "    scatter!(tauneg_suvr_diff, tauneg_vol_diff, color=(cols[2], 0.75), markersize=10)\n",
    "    scatter!(abneg_suvr_diff, abneg_vol_diff, color=(cols[3], 0.75), markersize=10)\n",
    "\n",
    "    ax = Axis(f[1,2])\n",
    "    scatter!(taupos_production, taupos_vol_diff, color=(cols[1], 0.75), markersize=10)\n",
    "    scatter!(tauneg_production, tauneg_vol_diff, color=(cols[2], 0.75), markersize=10)\n",
    "    scatter!(abneg_production, abneg_vol_diff, color=(cols[3], 0.75), markersize=10)\n",
    "\n",
    "    f\n",
    "end\n"
   ]
  },
  {
   "cell_type": "code",
   "execution_count": 10,
   "metadata": {},
   "outputs": [
    {
     "ename": "DimensionMismatch",
     "evalue": "DimensionMismatch: arrays could not be broadcast to a common size; got a dimension with lengths 37 and 39",
     "output_type": "error",
     "traceback": [
      "DimensionMismatch: arrays could not be broadcast to a common size; got a dimension with lengths 37 and 39\n",
      "\n",
      "Stacktrace:\n",
      "  [1] _bcs1\n",
      "    @ Base.Broadcast ./broadcast.jl:555 [inlined]\n",
      "  [2] _bcs\n",
      "    @ Base.Broadcast ./broadcast.jl:549 [inlined]\n",
      "  [3] broadcast_shape\n",
      "    @ Base.Broadcast ./broadcast.jl:543 [inlined]\n",
      "  [4] combine_axes\n",
      "    @ Base.Broadcast ./broadcast.jl:524 [inlined]\n",
      "  [5] instantiate\n",
      "    @ Base.Broadcast ./broadcast.jl:306 [inlined]\n",
      "  [6] materialize\n",
      "    @ Base.Broadcast ./broadcast.jl:903 [inlined]\n",
      "  [7] convert_arguments(P::PointBased, x::Vector{Float64}, y::Vector{Float64})\n",
      "    @ Makie ~/.julia/packages/Makie/z2T2o/src/conversions.jl:145\n",
      "  [8] convert_arguments(::Type{Scatter}, ::Vector{Float64}, ::Vararg{Vector{Float64}}; kw::@Kwargs{})\n",
      "    @ Makie ~/.julia/packages/Makie/z2T2o/src/conversions.jl:10\n",
      "  [9] convert_arguments\n",
      "    @ Makie ~/.julia/packages/Makie/z2T2o/src/conversions.jl:7 [inlined]\n",
      " [10] (Scatter)(args::Tuple{Vector{Float64}, Vector{Float64}}, plot_attributes::Dict{Symbol, Any})\n",
      "    @ Makie ~/.julia/packages/Makie/z2T2o/src/interfaces.jl:139\n",
      " [11] _create_plot!(::Function, ::Dict{Symbol, Any}, ::Vector{Float64}, ::Vector{Float64})\n",
      "    @ Makie ~/.julia/packages/Makie/z2T2o/src/figureplotting.jl:282\n",
      " [12] scatter!(::Vector{Float64}, ::Vararg{Vector{Float64}}; kw::@Kwargs{color::Tuple{ColorTypes.RGBA{Float32}, Float64}, markersize::Int64})\n",
      "    @ MakieCore ~/.julia/packages/MakieCore/UAwps/src/recipes.jl:176\n",
      " [13] top-level scope\n",
      "    @ ~/Projects/local-fkpp/adni/inference/analysis/notebooks/posterior-analysis.ipynb:5"
     ]
    }
   ],
   "source": [
    "begin\n",
    "    f = Figure(size=(1000,500))\n",
    "    ax = Axis(f[1,1])\n",
    "    scatter!(taupos_production, taupos_total_initial_suvr, color=(cols[1], 0.75), markersize=15)\n",
    "    scatter!(tauneg_production, tauneg_total_initial_suvr, color=(cols[2], 0.75), markersize=15)\n",
    "    scatter!(abneg_transport, abneg_total_initial_suvr, color=(cols[3], 0.75), markersize=15)\n",
    "    ax = Axis(f[1,2])\n",
    "    scatter!(taupos_transport, taupos_total_initial_suvr, color=(cols[1], 0.75), markersize=15)\n",
    "    scatter!(tauneg_transport, tauneg_total_initial_suvr, color=(cols[2], 0.75), markersize=15)\n",
    "    # scatter!(abneg_transport, abneg_total_initial_suvr, color=(cols[3], 0.75), markersize=15)\n",
    "    f\n",
    "end"
   ]
  },
  {
   "cell_type": "code",
   "execution_count": 11,
   "metadata": {},
   "outputs": [],
   "source": []
  }
 ],
 "metadata": {
  "kernelspec": {
   "display_name": "Julia 1.10.0",
   "language": "julia",
   "name": "julia-1.10"
  },
  "language_info": {
   "file_extension": ".jl",
   "mimetype": "application/julia",
   "name": "julia",
   "version": "1.10.0"
  }
 },
 "nbformat": 4,
 "nbformat_minor": 2
}
